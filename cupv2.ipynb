{
 "cells": [
  {
   "cell_type": "code",
   "execution_count": 105,
   "id": "cd92f1f2",
   "metadata": {},
   "outputs": [],
   "source": [
    "import numpy as np\n",
    "import pandas as pd\n",
    "import nltk\n",
    "import re\n",
    "import string\n",
    "from nltk.corpus import stopwords\n",
    "from nltk.tokenize import word_tokenize \n",
    "\n",
    "# Gensim\n",
    "import spacy\n",
    "import gensim\n",
    "import gensim.corpora as corpora\n",
    "from gensim.models import CoherenceModel\n",
    "from pprint import pprint\n",
    "\n",
    "from sklearn.model_selection import train_test_split, RandomizedSearchCV, GridSearchCV\n",
    "from sklearn.metrics import mean_absolute_error, mean_squared_error, r2_score,f1_score,plot_confusion_matrix,make_scorer\n",
    "from sklearn.metrics import accuracy_score, precision_score, recall_score\n",
    "from catboost import CatBoostClassifier\n",
    "from lightgbm import LGBMClassifier\n",
    "import matplotlib.pyplot as plt\n",
    "%matplotlib inline"
   ]
  },
  {
   "cell_type": "code",
   "execution_count": 2,
   "id": "449f746c",
   "metadata": {},
   "outputs": [],
   "source": [
    "np.random.seed(42)"
   ]
  },
  {
   "cell_type": "code",
   "execution_count": 24,
   "id": "665f3653",
   "metadata": {},
   "outputs": [],
   "source": [
    "train_df = pd.read_csv('train.csv')"
   ]
  },
  {
   "cell_type": "code",
   "execution_count": 25,
   "id": "4eeac2ac",
   "metadata": {},
   "outputs": [
    {
     "name": "stdout",
     "output_type": "stream",
     "text": [
      "<class 'pandas.core.frame.DataFrame'>\n",
      "RangeIndex: 38740 entries, 0 to 38739\n",
      "Data columns (total 3 columns):\n",
      " #   Column    Non-Null Count  Dtype \n",
      "---  ------    --------------  ----- \n",
      " 0   oid       38740 non-null  int64 \n",
      " 1   category  38740 non-null  object\n",
      " 2   text      38740 non-null  object\n",
      "dtypes: int64(1), object(2)\n",
      "memory usage: 908.1+ KB\n"
     ]
    }
   ],
   "source": [
    "train_df.info()"
   ]
  },
  {
   "cell_type": "code",
   "execution_count": 26,
   "id": "d5527b72",
   "metadata": {},
   "outputs": [],
   "source": [
    "df = train_df.copy()"
   ]
  },
  {
   "cell_type": "markdown",
   "id": "0b17fe0b",
   "metadata": {},
   "source": [
    "Объединим тексты каждого пользователя"
   ]
  },
  {
   "cell_type": "code",
   "execution_count": 27,
   "id": "9919e2a5",
   "metadata": {},
   "outputs": [],
   "source": [
    "df['text'] = df.groupby(['oid'])['text'].transform(lambda x: ' '.join(x))"
   ]
  },
  {
   "cell_type": "code",
   "execution_count": 28,
   "id": "22cd5dda",
   "metadata": {},
   "outputs": [
    {
     "data": {
      "text/html": [
       "<div>\n",
       "<style scoped>\n",
       "    .dataframe tbody tr th:only-of-type {\n",
       "        vertical-align: middle;\n",
       "    }\n",
       "\n",
       "    .dataframe tbody tr th {\n",
       "        vertical-align: top;\n",
       "    }\n",
       "\n",
       "    .dataframe thead th {\n",
       "        text-align: right;\n",
       "    }\n",
       "</style>\n",
       "<table border=\"1\" class=\"dataframe\">\n",
       "  <thead>\n",
       "    <tr style=\"text-align: right;\">\n",
       "      <th></th>\n",
       "      <th>oid</th>\n",
       "      <th>category</th>\n",
       "      <th>text</th>\n",
       "    </tr>\n",
       "  </thead>\n",
       "  <tbody>\n",
       "    <tr>\n",
       "      <th>0</th>\n",
       "      <td>365271984</td>\n",
       "      <td>winter_sport</td>\n",
       "      <td>Волшебные фото Виктория Поплавская ЕвгенияМедв...</td>\n",
       "    </tr>\n",
       "    <tr>\n",
       "      <th>1</th>\n",
       "      <td>503385563</td>\n",
       "      <td>extreme</td>\n",
       "      <td>Возвращение в подземелье Треша 33 Эйфория тупо...</td>\n",
       "    </tr>\n",
       "    <tr>\n",
       "      <th>2</th>\n",
       "      <td>146016084</td>\n",
       "      <td>football</td>\n",
       "      <td>Лучшие чешские вратари – Доминик Доминатор Гаш...</td>\n",
       "    </tr>\n",
       "    <tr>\n",
       "      <th>3</th>\n",
       "      <td>933865449</td>\n",
       "      <td>boardgames</td>\n",
       "      <td>Rtokenoid Warhammer40k валрак решил нас подкор...</td>\n",
       "    </tr>\n",
       "    <tr>\n",
       "      <th>4</th>\n",
       "      <td>713550145</td>\n",
       "      <td>hockey</td>\n",
       "      <td>Шестеркин затаскивает Рейнджерс в финал Восточ...</td>\n",
       "    </tr>\n",
       "    <tr>\n",
       "      <th>...</th>\n",
       "      <td>...</td>\n",
       "      <td>...</td>\n",
       "      <td>...</td>\n",
       "    </tr>\n",
       "    <tr>\n",
       "      <th>18606</th>\n",
       "      <td>700566540</td>\n",
       "      <td>boardgames</td>\n",
       "      <td>А вот и очередная среда пришла а за не ворвалс...</td>\n",
       "    </tr>\n",
       "    <tr>\n",
       "      <th>19040</th>\n",
       "      <td>239478272</td>\n",
       "      <td>basketball</td>\n",
       "      <td>БАСКЕТБОЛЬНЫЕ КРОССЫ ПОКУПАЙ ЗДЕСЬ tokenoidtok...</td>\n",
       "    </tr>\n",
       "    <tr>\n",
       "      <th>19738</th>\n",
       "      <td>819110546</td>\n",
       "      <td>martial_arts</td>\n",
       "      <td>Самураи вытаскиваю стрелы из лица своего товар...</td>\n",
       "    </tr>\n",
       "    <tr>\n",
       "      <th>21357</th>\n",
       "      <td>886287175</td>\n",
       "      <td>volleyball</td>\n",
       "      <td>Хотелось бы предложить вашему вниманию ролку в...</td>\n",
       "    </tr>\n",
       "    <tr>\n",
       "      <th>22411</th>\n",
       "      <td>294100248</td>\n",
       "      <td>autosport</td>\n",
       "      <td>Друзья мои 33 Спасибо всем и каждому кто был н...</td>\n",
       "    </tr>\n",
       "  </tbody>\n",
       "</table>\n",
       "<p>3874 rows × 3 columns</p>\n",
       "</div>"
      ],
      "text/plain": [
       "             oid      category  \\\n",
       "0      365271984  winter_sport   \n",
       "1      503385563       extreme   \n",
       "2      146016084      football   \n",
       "3      933865449    boardgames   \n",
       "4      713550145        hockey   \n",
       "...          ...           ...   \n",
       "18606  700566540    boardgames   \n",
       "19040  239478272    basketball   \n",
       "19738  819110546  martial_arts   \n",
       "21357  886287175    volleyball   \n",
       "22411  294100248     autosport   \n",
       "\n",
       "                                                    text  \n",
       "0      Волшебные фото Виктория Поплавская ЕвгенияМедв...  \n",
       "1      Возвращение в подземелье Треша 33 Эйфория тупо...  \n",
       "2      Лучшие чешские вратари – Доминик Доминатор Гаш...  \n",
       "3      Rtokenoid Warhammer40k валрак решил нас подкор...  \n",
       "4      Шестеркин затаскивает Рейнджерс в финал Восточ...  \n",
       "...                                                  ...  \n",
       "18606  А вот и очередная среда пришла а за не ворвалс...  \n",
       "19040  БАСКЕТБОЛЬНЫЕ КРОССЫ ПОКУПАЙ ЗДЕСЬ tokenoidtok...  \n",
       "19738  Самураи вытаскиваю стрелы из лица своего товар...  \n",
       "21357  Хотелось бы предложить вашему вниманию ролку в...  \n",
       "22411  Друзья мои 33 Спасибо всем и каждому кто был н...  \n",
       "\n",
       "[3874 rows x 3 columns]"
      ]
     },
     "execution_count": 28,
     "metadata": {},
     "output_type": "execute_result"
    }
   ],
   "source": [
    "df.drop_duplicates(inplace=True)\n",
    "df"
   ]
  },
  {
   "cell_type": "code",
   "execution_count": 29,
   "id": "917ded38",
   "metadata": {},
   "outputs": [
    {
     "data": {
      "text/plain": [
       "autosport       316\n",
       "extreme         311\n",
       "martial_arts    305\n",
       "motosport       303\n",
       "boardgames      302\n",
       "tennis          300\n",
       "esport          299\n",
       "athletics       297\n",
       "hockey          295\n",
       "volleyball      295\n",
       "football        286\n",
       "basketball      285\n",
       "winter_sport    280\n",
       "Name: category, dtype: int64"
      ]
     },
     "execution_count": 29,
     "metadata": {},
     "output_type": "execute_result"
    }
   ],
   "source": [
    "df['category'].value_counts()"
   ]
  },
  {
   "cell_type": "code",
   "execution_count": 15,
   "id": "7f74b8e4",
   "metadata": {},
   "outputs": [],
   "source": [
    "cat = {'winter_sport': 0, 'extreme': 1, 'football': 2, 'boardgames': 3,\n",
    "       'hockey': 4, 'esport': 5, 'athletics': 6, 'motosport': 7, 'basketball': 8,\n",
    "       'tennis': 9, 'autosport': 10, 'martial_arts': 11, 'volleyball': 12}\n",
    "inv_cat = {v: k for k, v in cat.items()}"
   ]
  },
  {
   "cell_type": "code",
   "execution_count": 30,
   "id": "d820f72a",
   "metadata": {},
   "outputs": [],
   "source": [
    "df.replace({'category':cat}, inplace= True)"
   ]
  },
  {
   "cell_type": "code",
   "execution_count": 31,
   "id": "c0354451",
   "metadata": {},
   "outputs": [],
   "source": [
    "russian_stopwords = stopwords.words(\"russian\")\n",
    "russian_stopwords += ['это', 'очень', 'сегодня', 'также', 'который', 'просто',\n",
    "                      'всем', 'нужно', 'будет', 'будут', 'нам', 'поэтому']\n",
    "nlp = spacy.load('ru_core_news_sm')"
   ]
  },
  {
   "cell_type": "code",
   "execution_count": 32,
   "id": "83af86b4",
   "metadata": {},
   "outputs": [],
   "source": [
    "def remove_emoji(string):\n",
    "    \"\"\"\n",
    "    Удаление эмоджи из текста\n",
    "    \"\"\"\n",
    "    emoji_pattern = re.compile(\"[\"u\"\\U0001F600-\\U0001F64F\"  # emoticons\n",
    "                               u\"\\U0001F300-\\U0001F5FF\"  # symbols & pictographs\n",
    "                               u\"\\U0001F680-\\U0001F6FF\"  # transport & map symbols\n",
    "                               u\"\\U0001F1E0-\\U0001F1FF\"  # flags (iOS)\n",
    "                               u\"\\U00002702-\\U000027B0\"\n",
    "                               u\"\\U000024C2-\\U0001F251\"\n",
    "                               u\"\\U0001f926-\\U0001f937\"\n",
    "                               u'\\U00010000-\\U0010ffff'\n",
    "                               u\"\\u200d\"\n",
    "                               u\"\\u2640-\\u2642\"\n",
    "                               u\"\\u2600-\\u2B55\"\n",
    "                               u\"\\u23cf\"\n",
    "                               u\"\\u23e9\"\n",
    "                               u\"\\u231a\"\n",
    "                               u\"\\u3030\"\n",
    "                               u\"\\ufe0f\"\n",
    "                               \"]+\", flags=re.UNICODE)\n",
    "    return emoji_pattern.sub(r'', string)\n",
    "\n",
    "def remove_extra_marks(abstract):\n",
    "    \"Return the abstracts after remvoing extra marks\"\n",
    "    extra_keys = [\"’\",\"—\",\"”\",\"“\",\"-\",\"–\"]\n",
    "    abstract_tokens = word_tokenize(abstract) \n",
    "    filtered_abstract = [word for word in abstract_tokens if not word in extra_keys] \n",
    "    return \" \".join(filtered_abstract)\n",
    "\n",
    "def replace_symbols(text,dic):\n",
    "    \"Return the abstracts after remvoing symbols in dic\"\n",
    "    for i, j in dic.items():\n",
    "        text = text.replace(i, j)\n",
    "    return text\n",
    "\n",
    "def remove_stopwords(text, stop_words = russian_stopwords):\n",
    "    \"Return the text after remvoing stopwords\"\n",
    "    article_tokens = word_tokenize(text) \n",
    "    filtered_article = [word for word in article_tokens if not word in stop_words] \n",
    "    return \" \".join(filtered_article)\n",
    "\n",
    "def remove_ascii(text):\n",
    "    for i in text:\n",
    "        if 33 < ord(i) < 128:\n",
    "            text = text.replace(i,'')\n",
    "    return text.strip()\n",
    "\n",
    "\n",
    "def lemmatize(abstract):\n",
    "    \"\"\"Return text after performing the lemmatization\"\"\"\n",
    "    doc = nlp(abstract)\n",
    "    #tokens = [token for token in doc]\n",
    "    return  \" \".join([token.lemma_ for token in doc])\n",
    "\n",
    "def split_capital(text):\n",
    "    text = text.split()\n",
    "    res = ''\n",
    "    for i in text:\n",
    "        x = re.findall(r'[A-ZА-Я][a-zа-я]+', i)\n",
    "        res += ' '.join(x) + ' ' if x else i + ' '\n",
    "    return res.strip()\n",
    "\n",
    "\n",
    "def preprocessing(abstracts):\n",
    "    \"Make abstracts preprocessing\"\n",
    "    d = { '\\n': \"\", '\\t': \"\", '\\xa0':' '}\n",
    "    abstracts = abstracts.apply(lambda x: replace_symbols(x,d))\n",
    "    # remove emoji\n",
    "    abstracts = abstracts.apply(remove_emoji)\n",
    "    # lowcase\n",
    "    #abstracts = abstracts.apply(lambda t : t.lower())\n",
    "    #removing punctuations \n",
    "    abstracts = abstracts.apply(lambda x: re.sub('[%s]' % re.escape(string.punctuation), '', x))\n",
    "    # remove formulas like $...$\n",
    "    abstracts = abstracts.apply(lambda x: re.sub(r'\\$.+\\$', '', x)) \n",
    "    #removing digits\n",
    "    abstracts = abstracts.apply(lambda x: re.sub('\\w*\\d\\w*','', x))\n",
    "    #removing extra marks\n",
    "    abstracts = abstracts.apply(remove_extra_marks)\n",
    "    #removing words with length <=2\n",
    "    abstracts = abstracts.apply(lambda x: re.compile(r'\\W*\\b\\w{1,2}\\b').sub('', x))\n",
    "    #remove latin symbols\n",
    "    #abstracts = abstracts.apply(remove_ascii)\n",
    "    #lemmatization\n",
    "    #abstracts = abstracts.apply(lemmatize)\n",
    "    #removing stopwords\n",
    "    #abstracts = abstracts.apply(remove_stopwords)\n",
    "    abstracts = abstracts.apply(split_capital)\n",
    "    return abstracts"
   ]
  },
  {
   "cell_type": "code",
   "execution_count": 33,
   "id": "5be5d312",
   "metadata": {},
   "outputs": [
    {
     "name": "stdout",
     "output_type": "stream",
     "text": [
      "Wall time: 8.91 s\n"
     ]
    }
   ],
   "source": [
    "%%time\n",
    "df['text']=preprocessing(df['text'])"
   ]
  },
  {
   "cell_type": "code",
   "execution_count": 79,
   "id": "1b505ad3",
   "metadata": {},
   "outputs": [],
   "source": [
    "df.reset_index(inplace=True)"
   ]
  },
  {
   "cell_type": "code",
   "execution_count": 42,
   "id": "8001debc",
   "metadata": {},
   "outputs": [],
   "source": [
    "from nltk.tokenize import word_tokenize\n",
    "\n",
    "def tokenize(text):\n",
    "    return word_tokenize(text)\n",
    "\n",
    "\n",
    "def remove_token_words(text:list):\n",
    "    new_text=[]\n",
    "    for i in text:\n",
    "        if 'token' not in i:\n",
    "            new_text.append(i)\n",
    "    return new_text\n",
    "\n",
    "\n",
    "def lower_text(text:list):\n",
    "    return [x.lower() for x in text]\n",
    "\n",
    "\n",
    "tokens = df['text'].apply(tokenize)\n",
    "for i in range(len(tokens)):\n",
    "    tokens[i] = remove_token_words(tokens[i])\n",
    "for i in range(len(tokens)):\n",
    "    tokens[i] = lower_text(tokens[i])"
   ]
  },
  {
   "cell_type": "code",
   "execution_count": 43,
   "id": "f3138675",
   "metadata": {},
   "outputs": [],
   "source": [
    "docs = []\n",
    "for i in tokens:\n",
    "    docs.append(\" \".join(i))"
   ]
  },
  {
   "cell_type": "code",
   "execution_count": 46,
   "id": "a9c93da4",
   "metadata": {},
   "outputs": [],
   "source": [
    "df['clean_text'] = docs"
   ]
  },
  {
   "cell_type": "code",
   "execution_count": 45,
   "id": "fd48d1e6",
   "metadata": {},
   "outputs": [
    {
     "name": "stdout",
     "output_type": "stream",
     "text": [
      "Wall time: 7min 4s\n"
     ]
    }
   ],
   "source": [
    "%%time\n",
    "#removing stopwords\n",
    "df['clean_text'] = df['clean_text'].apply(remove_stopwords)\n",
    "#lemmatization\n",
    "df['clean_text'] = df['clean_text'].apply(lemmatize)"
   ]
  },
  {
   "cell_type": "code",
   "execution_count": 85,
   "id": "8924d83e",
   "metadata": {},
   "outputs": [
    {
     "data": {
      "text/html": [
       "<div>\n",
       "<style scoped>\n",
       "    .dataframe tbody tr th:only-of-type {\n",
       "        vertical-align: middle;\n",
       "    }\n",
       "\n",
       "    .dataframe tbody tr th {\n",
       "        vertical-align: top;\n",
       "    }\n",
       "\n",
       "    .dataframe thead th {\n",
       "        text-align: right;\n",
       "    }\n",
       "</style>\n",
       "<table border=\"1\" class=\"dataframe\">\n",
       "  <thead>\n",
       "    <tr style=\"text-align: right;\">\n",
       "      <th></th>\n",
       "      <th>oid</th>\n",
       "      <th>category</th>\n",
       "      <th>text</th>\n",
       "      <th>clean_text</th>\n",
       "    </tr>\n",
       "  </thead>\n",
       "  <tbody>\n",
       "    <tr>\n",
       "      <th>0</th>\n",
       "      <td>365271984</td>\n",
       "      <td>0</td>\n",
       "      <td>Волшебные фото Виктория Поплавская Евгения Мед...</td>\n",
       "      <td>волшебные фото виктория поплавская евгения мед...</td>\n",
       "    </tr>\n",
       "    <tr>\n",
       "      <th>1</th>\n",
       "      <td>503385563</td>\n",
       "      <td>1</td>\n",
       "      <td>Возвращение подземелье Треша Эйфория тупости ж...</td>\n",
       "      <td>возвращение подземелье треша эйфория тупость ж...</td>\n",
       "    </tr>\n",
       "    <tr>\n",
       "      <th>2</th>\n",
       "      <td>146016084</td>\n",
       "      <td>2</td>\n",
       "      <td>Лучшие чешские вратари Доминик Доминатор Гашек...</td>\n",
       "      <td>хороший чешский вратарь доминик доминатор гаше...</td>\n",
       "    </tr>\n",
       "    <tr>\n",
       "      <th>3</th>\n",
       "      <td>933865449</td>\n",
       "      <td>3</td>\n",
       "      <td>Rtokenoid валрак решил нас подкормить сильно с...</td>\n",
       "      <td>валрак решить подкормить сильно свежий слух им...</td>\n",
       "    </tr>\n",
       "    <tr>\n",
       "      <th>4</th>\n",
       "      <td>713550145</td>\n",
       "      <td>4</td>\n",
       "      <td>Шестеркин затаскивает Рейнджерс финал Восточно...</td>\n",
       "      <td>шестеркин затаскивать рейнджерс финал восточны...</td>\n",
       "    </tr>\n",
       "  </tbody>\n",
       "</table>\n",
       "</div>"
      ],
      "text/plain": [
       "         oid  category                                               text  \\\n",
       "0  365271984         0  Волшебные фото Виктория Поплавская Евгения Мед...   \n",
       "1  503385563         1  Возвращение подземелье Треша Эйфория тупости ж...   \n",
       "2  146016084         2  Лучшие чешские вратари Доминик Доминатор Гашек...   \n",
       "3  933865449         3  Rtokenoid валрак решил нас подкормить сильно с...   \n",
       "4  713550145         4  Шестеркин затаскивает Рейнджерс финал Восточно...   \n",
       "\n",
       "                                          clean_text  \n",
       "0  волшебные фото виктория поплавская евгения мед...  \n",
       "1  возвращение подземелье треша эйфория тупость ж...  \n",
       "2  хороший чешский вратарь доминик доминатор гаше...  \n",
       "3  валрак решить подкормить сильно свежий слух им...  \n",
       "4  шестеркин затаскивать рейнджерс финал восточны...  "
      ]
     },
     "execution_count": 85,
     "metadata": {},
     "output_type": "execute_result"
    }
   ],
   "source": [
    "df.head()"
   ]
  },
  {
   "cell_type": "code",
   "execution_count": 87,
   "id": "c25952ff",
   "metadata": {},
   "outputs": [],
   "source": [
    "X_text = df['clean_text']\n",
    "y = df['category']"
   ]
  },
  {
   "cell_type": "code",
   "execution_count": 131,
   "id": "eb823bca",
   "metadata": {},
   "outputs": [],
   "source": [
    "from sklearn.feature_extraction.text import TfidfVectorizer\n",
    "from sklearn.model_selection import train_test_split\n",
    "from sklearn.metrics import accuracy_score\n",
    "from sklearn import svm\n",
    "from sklearn.linear_model import SGDClassifier \n",
    "\n",
    "vectorizer = TfidfVectorizer()"
   ]
  },
  {
   "cell_type": "code",
   "execution_count": 132,
   "id": "5a639908",
   "metadata": {},
   "outputs": [],
   "source": [
    "vectors = vectorizer.fit_transform(X_text)"
   ]
  },
  {
   "cell_type": "code",
   "execution_count": 93,
   "id": "033ebaec",
   "metadata": {},
   "outputs": [],
   "source": [
    "X = np.asarray(vectors.todense())"
   ]
  },
  {
   "cell_type": "code",
   "execution_count": 102,
   "id": "91fc8595",
   "metadata": {},
   "outputs": [],
   "source": [
    "X_train, X_test, y_train, y_test= train_test_split(X, y, stratify=y, test_size=0.25, random_state=42)"
   ]
  },
  {
   "cell_type": "code",
   "execution_count": 95,
   "id": "2fd5c2ed",
   "metadata": {},
   "outputs": [
    {
     "data": {
      "text/plain": [
       "(2905, 89786)"
      ]
     },
     "execution_count": 95,
     "metadata": {},
     "output_type": "execute_result"
    }
   ],
   "source": [
    "X_train.shape"
   ]
  },
  {
   "cell_type": "code",
   "execution_count": 97,
   "id": "b8a04e35",
   "metadata": {},
   "outputs": [],
   "source": [
    "from sklearn.ensemble import RandomForestClassifier\n",
    "from sklearn.neural_network import MLPClassifier\n",
    "from sklearn.svm import SVC"
   ]
  },
  {
   "cell_type": "code",
   "execution_count": 98,
   "id": "3035434c",
   "metadata": {},
   "outputs": [],
   "source": [
    "clf = SGDClassifier(max_iter=1000, warm_start=True, tol=1e-8)"
   ]
  },
  {
   "cell_type": "code",
   "execution_count": 113,
   "id": "6aa2439e",
   "metadata": {},
   "outputs": [],
   "source": [
    "# clf = SVC(verbose=2)"
   ]
  },
  {
   "cell_type": "code",
   "execution_count": 99,
   "id": "8848620e",
   "metadata": {
    "scrolled": true
   },
   "outputs": [
    {
     "data": {
      "text/html": [
       "<style>#sk-container-id-1 {color: black;background-color: white;}#sk-container-id-1 pre{padding: 0;}#sk-container-id-1 div.sk-toggleable {background-color: white;}#sk-container-id-1 label.sk-toggleable__label {cursor: pointer;display: block;width: 100%;margin-bottom: 0;padding: 0.3em;box-sizing: border-box;text-align: center;}#sk-container-id-1 label.sk-toggleable__label-arrow:before {content: \"▸\";float: left;margin-right: 0.25em;color: #696969;}#sk-container-id-1 label.sk-toggleable__label-arrow:hover:before {color: black;}#sk-container-id-1 div.sk-estimator:hover label.sk-toggleable__label-arrow:before {color: black;}#sk-container-id-1 div.sk-toggleable__content {max-height: 0;max-width: 0;overflow: hidden;text-align: left;background-color: #f0f8ff;}#sk-container-id-1 div.sk-toggleable__content pre {margin: 0.2em;color: black;border-radius: 0.25em;background-color: #f0f8ff;}#sk-container-id-1 input.sk-toggleable__control:checked~div.sk-toggleable__content {max-height: 200px;max-width: 100%;overflow: auto;}#sk-container-id-1 input.sk-toggleable__control:checked~label.sk-toggleable__label-arrow:before {content: \"▾\";}#sk-container-id-1 div.sk-estimator input.sk-toggleable__control:checked~label.sk-toggleable__label {background-color: #d4ebff;}#sk-container-id-1 div.sk-label input.sk-toggleable__control:checked~label.sk-toggleable__label {background-color: #d4ebff;}#sk-container-id-1 input.sk-hidden--visually {border: 0;clip: rect(1px 1px 1px 1px);clip: rect(1px, 1px, 1px, 1px);height: 1px;margin: -1px;overflow: hidden;padding: 0;position: absolute;width: 1px;}#sk-container-id-1 div.sk-estimator {font-family: monospace;background-color: #f0f8ff;border: 1px dotted black;border-radius: 0.25em;box-sizing: border-box;margin-bottom: 0.5em;}#sk-container-id-1 div.sk-estimator:hover {background-color: #d4ebff;}#sk-container-id-1 div.sk-parallel-item::after {content: \"\";width: 100%;border-bottom: 1px solid gray;flex-grow: 1;}#sk-container-id-1 div.sk-label:hover label.sk-toggleable__label {background-color: #d4ebff;}#sk-container-id-1 div.sk-serial::before {content: \"\";position: absolute;border-left: 1px solid gray;box-sizing: border-box;top: 0;bottom: 0;left: 50%;z-index: 0;}#sk-container-id-1 div.sk-serial {display: flex;flex-direction: column;align-items: center;background-color: white;padding-right: 0.2em;padding-left: 0.2em;position: relative;}#sk-container-id-1 div.sk-item {position: relative;z-index: 1;}#sk-container-id-1 div.sk-parallel {display: flex;align-items: stretch;justify-content: center;background-color: white;position: relative;}#sk-container-id-1 div.sk-item::before, #sk-container-id-1 div.sk-parallel-item::before {content: \"\";position: absolute;border-left: 1px solid gray;box-sizing: border-box;top: 0;bottom: 0;left: 50%;z-index: -1;}#sk-container-id-1 div.sk-parallel-item {display: flex;flex-direction: column;z-index: 1;position: relative;background-color: white;}#sk-container-id-1 div.sk-parallel-item:first-child::after {align-self: flex-end;width: 50%;}#sk-container-id-1 div.sk-parallel-item:last-child::after {align-self: flex-start;width: 50%;}#sk-container-id-1 div.sk-parallel-item:only-child::after {width: 0;}#sk-container-id-1 div.sk-dashed-wrapped {border: 1px dashed gray;margin: 0 0.4em 0.5em 0.4em;box-sizing: border-box;padding-bottom: 0.4em;background-color: white;}#sk-container-id-1 div.sk-label label {font-family: monospace;font-weight: bold;display: inline-block;line-height: 1.2em;}#sk-container-id-1 div.sk-label-container {text-align: center;}#sk-container-id-1 div.sk-container {/* jupyter's `normalize.less` sets `[hidden] { display: none; }` but bootstrap.min.css set `[hidden] { display: none !important; }` so we also need the `!important` here to be able to override the default hidden behavior on the sphinx rendered scikit-learn.org. See: https://github.com/scikit-learn/scikit-learn/issues/21755 */display: inline-block !important;position: relative;}#sk-container-id-1 div.sk-text-repr-fallback {display: none;}</style><div id=\"sk-container-id-1\" class=\"sk-top-container\"><div class=\"sk-text-repr-fallback\"><pre>SGDClassifier(tol=1e-08, warm_start=True)</pre><b>In a Jupyter environment, please rerun this cell to show the HTML representation or trust the notebook. <br />On GitHub, the HTML representation is unable to render, please try loading this page with nbviewer.org.</b></div><div class=\"sk-container\" hidden><div class=\"sk-item\"><div class=\"sk-estimator sk-toggleable\"><input class=\"sk-toggleable__control sk-hidden--visually\" id=\"sk-estimator-id-1\" type=\"checkbox\" checked><label for=\"sk-estimator-id-1\" class=\"sk-toggleable__label sk-toggleable__label-arrow\">SGDClassifier</label><div class=\"sk-toggleable__content\"><pre>SGDClassifier(tol=1e-08, warm_start=True)</pre></div></div></div></div></div>"
      ],
      "text/plain": [
       "SGDClassifier(tol=1e-08, warm_start=True)"
      ]
     },
     "execution_count": 99,
     "metadata": {},
     "output_type": "execute_result"
    }
   ],
   "source": [
    "clf.fit(X_train, y_train)"
   ]
  },
  {
   "cell_type": "code",
   "execution_count": 108,
   "id": "8277d5c0",
   "metadata": {},
   "outputs": [
    {
     "name": "stdout",
     "output_type": "stream",
     "text": [
      "Accuracy: 0.9896800825593395\n",
      "Precision: 0.9896800825593395\n",
      "Recall: 0.9896800825593395\n",
      "F1: 0.9896800825593395\n"
     ]
    }
   ],
   "source": [
    "def print_res(y_test, answers_pred):\n",
    "    print(f'Accuracy: {accuracy_score(y_test, answers_pred)}')\n",
    "    print(f'Precision: {precision_score(y_test, answers_pred, average=\"micro\")}')\n",
    "    print(f'Recall: {recall_score(y_test, answers_pred,average=\"micro\")}')\n",
    "    print(f'F1: {f1_score(y_test, answers_pred,average=\"micro\")}')\n",
    "    \n",
    "pred = clf.predict(X_test)\n",
    "print_res(y_test, pred)"
   ]
  },
  {
   "cell_type": "code",
   "execution_count": 118,
   "id": "d2bfce6f",
   "metadata": {},
   "outputs": [
    {
     "data": {
      "text/plain": [
       "SGDClassifier(tol=1e-08, warm_start=True)"
      ]
     },
     "execution_count": 118,
     "metadata": {},
     "output_type": "execute_result"
    }
   ],
   "source": [
    "clf.fit(X, y)"
   ]
  },
  {
   "cell_type": "code",
   "execution_count": 121,
   "id": "2a6c2678",
   "metadata": {},
   "outputs": [
    {
     "data": {
      "text/html": [
       "<div>\n",
       "<style scoped>\n",
       "    .dataframe tbody tr th:only-of-type {\n",
       "        vertical-align: middle;\n",
       "    }\n",
       "\n",
       "    .dataframe tbody tr th {\n",
       "        vertical-align: top;\n",
       "    }\n",
       "\n",
       "    .dataframe thead th {\n",
       "        text-align: right;\n",
       "    }\n",
       "</style>\n",
       "<table border=\"1\" class=\"dataframe\">\n",
       "  <thead>\n",
       "    <tr style=\"text-align: right;\">\n",
       "      <th></th>\n",
       "      <th>oid</th>\n",
       "      <th>text</th>\n",
       "    </tr>\n",
       "  </thead>\n",
       "  <tbody>\n",
       "    <tr>\n",
       "      <th>0</th>\n",
       "      <td>749208109</td>\n",
       "      <td>СПОЧНО СООБЩЕСТВО ПРОДАЕТСЯ ЗА 1300Р ЗА ПОКУПК...</td>\n",
       "    </tr>\n",
       "    <tr>\n",
       "      <th>1</th>\n",
       "      <td>452466036</td>\n",
       "      <td>Естественное восстановление после тяжелой трен...</td>\n",
       "    </tr>\n",
       "    <tr>\n",
       "      <th>2</th>\n",
       "      <td>161038103</td>\n",
       "      <td>Тема нарядов продолжается Одна из британских ж...</td>\n",
       "    </tr>\n",
       "    <tr>\n",
       "      <th>3</th>\n",
       "      <td>663621910</td>\n",
       "      <td>Привет Избранный. Ты спрашиваешь себя ЧТО здес...</td>\n",
       "    </tr>\n",
       "    <tr>\n",
       "      <th>4</th>\n",
       "      <td>566255305</td>\n",
       "      <td>КОРОЛЬ ПЯТИСОТНИКОВ В ДЕЛЕ Андрей Рублев успеш...</td>\n",
       "    </tr>\n",
       "  </tbody>\n",
       "</table>\n",
       "</div>"
      ],
      "text/plain": [
       "         oid                                               text\n",
       "0  749208109  СПОЧНО СООБЩЕСТВО ПРОДАЕТСЯ ЗА 1300Р ЗА ПОКУПК...\n",
       "1  452466036  Естественное восстановление после тяжелой трен...\n",
       "2  161038103  Тема нарядов продолжается Одна из британских ж...\n",
       "3  663621910  Привет Избранный. Ты спрашиваешь себя ЧТО здес...\n",
       "4  566255305  КОРОЛЬ ПЯТИСОТНИКОВ В ДЕЛЕ Андрей Рублев успеш..."
      ]
     },
     "execution_count": 121,
     "metadata": {},
     "output_type": "execute_result"
    }
   ],
   "source": [
    "test = pd.read_csv('test.csv')\n",
    "test.head()"
   ]
  },
  {
   "cell_type": "code",
   "execution_count": 122,
   "id": "df4402a8",
   "metadata": {},
   "outputs": [
    {
     "name": "stdout",
     "output_type": "stream",
     "text": [
      "<class 'pandas.core.frame.DataFrame'>\n",
      "RangeIndex: 26260 entries, 0 to 26259\n",
      "Data columns (total 2 columns):\n",
      " #   Column  Non-Null Count  Dtype \n",
      "---  ------  --------------  ----- \n",
      " 0   oid     26260 non-null  int64 \n",
      " 1   text    26260 non-null  object\n",
      "dtypes: int64(1), object(1)\n",
      "memory usage: 410.4+ KB\n"
     ]
    }
   ],
   "source": [
    "test.info()"
   ]
  },
  {
   "cell_type": "code",
   "execution_count": 123,
   "id": "fe85f241",
   "metadata": {},
   "outputs": [
    {
     "data": {
      "text/plain": [
       "(2626, 2)"
      ]
     },
     "execution_count": 123,
     "metadata": {},
     "output_type": "execute_result"
    }
   ],
   "source": [
    "test['text'] = test.groupby(['oid'])['text'].transform(lambda x: ' '.join(x))\n",
    "test.drop_duplicates(inplace=True)\n",
    "test.shape"
   ]
  },
  {
   "cell_type": "code",
   "execution_count": 124,
   "id": "4f88c276",
   "metadata": {},
   "outputs": [],
   "source": [
    "test.reset_index(inplace=True)"
   ]
  },
  {
   "cell_type": "code",
   "execution_count": 125,
   "id": "b929b916",
   "metadata": {},
   "outputs": [],
   "source": [
    "test['text']=preprocessing(test['text'])"
   ]
  },
  {
   "cell_type": "code",
   "execution_count": 126,
   "id": "bc16c504",
   "metadata": {},
   "outputs": [],
   "source": [
    "tokens = test['text'].apply(tokenize)\n",
    "for i in range(len(tokens)):\n",
    "    tokens[i] = remove_token_words(tokens[i])\n",
    "for i in range(len(tokens)):\n",
    "    tokens[i] = lower_text(tokens[i])\n",
    "docs = []\n",
    "for i in tokens:\n",
    "    docs.append(\" \".join(i))\n",
    "test['clean_text'] = docs\n",
    "\n",
    "#removing stopwords\n",
    "test['clean_text'] = test['clean_text'].apply(remove_stopwords)\n",
    "#lemmatization\n",
    "test['clean_text'] = test['clean_text'].apply(lemmatize)"
   ]
  },
  {
   "cell_type": "code",
   "execution_count": 129,
   "id": "a370dab4",
   "metadata": {},
   "outputs": [
    {
     "data": {
      "text/html": [
       "<div>\n",
       "<style scoped>\n",
       "    .dataframe tbody tr th:only-of-type {\n",
       "        vertical-align: middle;\n",
       "    }\n",
       "\n",
       "    .dataframe tbody tr th {\n",
       "        vertical-align: top;\n",
       "    }\n",
       "\n",
       "    .dataframe thead th {\n",
       "        text-align: right;\n",
       "    }\n",
       "</style>\n",
       "<table border=\"1\" class=\"dataframe\">\n",
       "  <thead>\n",
       "    <tr style=\"text-align: right;\">\n",
       "      <th></th>\n",
       "      <th>oid</th>\n",
       "      <th>text</th>\n",
       "      <th>clean_text</th>\n",
       "    </tr>\n",
       "  </thead>\n",
       "  <tbody>\n",
       "    <tr>\n",
       "      <th>0</th>\n",
       "      <td>749208109</td>\n",
       "      <td>СПОЧНО СООБЩЕСТВО ПРОДАЕТСЯ ПОКУПКОЙ ПИШИТЕ ВС...</td>\n",
       "      <td>спочно сообщество продаваться покупка пишите г...</td>\n",
       "    </tr>\n",
       "    <tr>\n",
       "      <th>1</th>\n",
       "      <td>452466036</td>\n",
       "      <td>Естественное восстановление после тяжелой трен...</td>\n",
       "      <td>естественный восстановление тяжёлый тренировка...</td>\n",
       "    </tr>\n",
       "    <tr>\n",
       "      <th>2</th>\n",
       "      <td>161038103</td>\n",
       "      <td>Тема нарядов продолжается Одна британских журн...</td>\n",
       "      <td>тема наряд продолжаться одна британский журнал...</td>\n",
       "    </tr>\n",
       "    <tr>\n",
       "      <th>3</th>\n",
       "      <td>663621910</td>\n",
       "      <td>Привет Избранный спрашиваешь себя ЧТО здесь пр...</td>\n",
       "      <td>привет избрать спрашиваешь происходить ответ с...</td>\n",
       "    </tr>\n",
       "    <tr>\n",
       "      <th>4</th>\n",
       "      <td>566255305</td>\n",
       "      <td>КОРОЛЬ ПЯТИСОТНИКОВ ДЕЛЕ Андрей Рублев успешно...</td>\n",
       "      <td>король пятисотников деле андрей рублёв успешно...</td>\n",
       "    </tr>\n",
       "  </tbody>\n",
       "</table>\n",
       "</div>"
      ],
      "text/plain": [
       "         oid                                               text  \\\n",
       "0  749208109  СПОЧНО СООБЩЕСТВО ПРОДАЕТСЯ ПОКУПКОЙ ПИШИТЕ ВС...   \n",
       "1  452466036  Естественное восстановление после тяжелой трен...   \n",
       "2  161038103  Тема нарядов продолжается Одна британских журн...   \n",
       "3  663621910  Привет Избранный спрашиваешь себя ЧТО здесь пр...   \n",
       "4  566255305  КОРОЛЬ ПЯТИСОТНИКОВ ДЕЛЕ Андрей Рублев успешно...   \n",
       "\n",
       "                                          clean_text  \n",
       "0  спочно сообщество продаваться покупка пишите г...  \n",
       "1  естественный восстановление тяжёлый тренировка...  \n",
       "2  тема наряд продолжаться одна британский журнал...  \n",
       "3  привет избрать спрашиваешь происходить ответ с...  \n",
       "4  король пятисотников деле андрей рублёв успешно...  "
      ]
     },
     "execution_count": 129,
     "metadata": {},
     "output_type": "execute_result"
    }
   ],
   "source": [
    "test.head()"
   ]
  },
  {
   "cell_type": "code",
   "execution_count": 133,
   "id": "7f031366",
   "metadata": {},
   "outputs": [],
   "source": [
    "test_vectors = vectorizer.transform(test['clean_text'])"
   ]
  },
  {
   "cell_type": "code",
   "execution_count": 134,
   "id": "4e0041b7",
   "metadata": {},
   "outputs": [],
   "source": [
    "test_pred = clf.predict(test_vectors)"
   ]
  },
  {
   "cell_type": "code",
   "execution_count": 142,
   "id": "4e68d488",
   "metadata": {},
   "outputs": [],
   "source": [
    "res_dict = dict(map(lambda i,j : (i,j) , test.oid.values,test_pred))"
   ]
  },
  {
   "cell_type": "code",
   "execution_count": 152,
   "id": "439351cc",
   "metadata": {},
   "outputs": [],
   "source": [
    "submit = pd.read_csv('test.csv')"
   ]
  },
  {
   "cell_type": "code",
   "execution_count": 168,
   "id": "1408f882",
   "metadata": {},
   "outputs": [],
   "source": [
    "test['category'] = test_pred"
   ]
  },
  {
   "cell_type": "code",
   "execution_count": 172,
   "id": "84f71bfb",
   "metadata": {},
   "outputs": [],
   "source": [
    "test.replace({'category':inv_cat}, inplace= True)"
   ]
  },
  {
   "cell_type": "code",
   "execution_count": 182,
   "id": "2e12bac3",
   "metadata": {},
   "outputs": [],
   "source": [
    "category = []\n",
    "for i in submit.oid.values:\n",
    "    category.append(d[i])"
   ]
  },
  {
   "cell_type": "code",
   "execution_count": 183,
   "id": "95254782",
   "metadata": {},
   "outputs": [],
   "source": [
    "submit['category'] = category"
   ]
  }
 ],
 "metadata": {
  "kernelspec": {
   "display_name": "Python 3 (ipykernel)",
   "language": "python",
   "name": "python3"
  },
  "language_info": {
   "codemirror_mode": {
    "name": "ipython",
    "version": 3
   },
   "file_extension": ".py",
   "mimetype": "text/x-python",
   "name": "python",
   "nbconvert_exporter": "python",
   "pygments_lexer": "ipython3",
   "version": "3.9.7"
  }
 },
 "nbformat": 4,
 "nbformat_minor": 5
}
